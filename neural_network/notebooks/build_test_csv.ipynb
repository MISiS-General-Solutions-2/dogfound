{
 "cells": [
  {
   "cell_type": "code",
   "execution_count": 1,
   "id": "2cd1cbbf",
   "metadata": {},
   "outputs": [
    {
     "name": "stdout",
     "output_type": "stream",
     "text": [
      "fatal: целевой путь «../yolov5» уже существует и не является пустым каталогом.\r\n"
     ]
    }
   ],
   "source": [
    "!git clone https://github.com/ultralytics/yolov5 ../yolov5"
   ]
  },
  {
   "cell_type": "code",
   "execution_count": 2,
   "id": "c68ceaa2",
   "metadata": {},
   "outputs": [],
   "source": [
    "import torch\n",
    "import numpy as np\n",
    "import os, sys\n",
    "from PIL import Image\n",
    "import cv2\n",
    "import pandas as pd\n",
    "import math\n",
    "from torch import nn\n",
    "from matplotlib import pyplot as plt\n",
    "from skimage.feature import match_template\n",
    "from torchvision import models\n",
    "from torchvision import transforms"
   ]
  },
  {
   "cell_type": "code",
   "execution_count": 3,
   "id": "28fea5cb",
   "metadata": {},
   "outputs": [
    {
     "data": {
      "text/plain": [
       "device(type='cuda', index=0)"
      ]
     },
     "execution_count": 3,
     "metadata": {},
     "output_type": "execute_result"
    }
   ],
   "source": [
    "device = torch.device('cuda:0' if torch.cuda.is_available() else 'cpu')\n",
    "device"
   ]
  },
  {
   "cell_type": "code",
   "execution_count": 4,
   "id": "b6e5e47d",
   "metadata": {},
   "outputs": [],
   "source": [
    "sys.path.append('../yolov5/')"
   ]
  },
  {
   "cell_type": "code",
   "execution_count": 5,
   "id": "8ab7e383",
   "metadata": {},
   "outputs": [],
   "source": [
    "# yolo_model = torch.hub.load('ultralytics/yolov5', 'custom', path='../models/detect/yolo_finetuned_v1.pt')"
   ]
  },
  {
   "cell_type": "code",
   "execution_count": 6,
   "id": "8aac317b",
   "metadata": {},
   "outputs": [
    {
     "name": "stderr",
     "output_type": "stream",
     "text": [
      "Adding AutoShape... \n"
     ]
    }
   ],
   "source": [
    "yolo_model = torch.load('../models/detect/yolo_scratch_v1.pt', map_location=device)['model'].float().eval().autoshape()"
   ]
  },
  {
   "cell_type": "code",
   "execution_count": 7,
   "id": "1256c81d",
   "metadata": {},
   "outputs": [],
   "source": [
    "# yolo_model(np.random.randn(3, 640, 640)).pandas().xywh[0]"
   ]
  },
  {
   "cell_type": "code",
   "execution_count": null,
   "id": "8930ea72",
   "metadata": {},
   "outputs": [],
   "source": []
  },
  {
   "cell_type": "code",
   "execution_count": 8,
   "id": "b5ea0b20",
   "metadata": {},
   "outputs": [],
   "source": [
    "class MultiOutputModel(nn.Module):\n",
    "    def __init__(self, n_color_classes=3, n_tail_classes=2):\n",
    "        super().__init__()\n",
    "        self.resnet = models.resnet34(pretrained=False)\n",
    "        self.base_model = nn.Sequential(\n",
    "            *(list(self.resnet.children())[:-1])\n",
    "        )  # take the model without classifier\n",
    "\n",
    "        last_channel = (\n",
    "            models.resnet34().fc.in_features\n",
    "        )  # size of the layer before the classifier\n",
    "\n",
    "        # create separate classifiers for our outputs\n",
    "        self.color = nn.Sequential(\n",
    "            nn.Dropout(p=0.5),\n",
    "            nn.Linear(in_features=last_channel, out_features=n_color_classes),\n",
    "        )\n",
    "        self.tail = nn.Sequential(\n",
    "            nn.Dropout(p=0.5),\n",
    "            nn.Linear(in_features=last_channel, out_features=n_tail_classes),\n",
    "        )\n",
    "\n",
    "    def forward(self, x):\n",
    "        x = self.base_model(x)\n",
    "\n",
    "        # reshape from [batch, channels, 1, 1] to [batch, channels] to put it into classifier\n",
    "        x = torch.flatten(x, start_dim=1)\n",
    "        return {\n",
    "            \"color\": self.color(x),\n",
    "            \"tail\": self.tail(x),\n",
    "        }"
   ]
  },
  {
   "cell_type": "code",
   "execution_count": 9,
   "id": "a832d19e",
   "metadata": {},
   "outputs": [],
   "source": [
    "classifier_model = MultiOutputModel()"
   ]
  },
  {
   "cell_type": "code",
   "execution_count": 10,
   "id": "396ccaab",
   "metadata": {},
   "outputs": [],
   "source": [
    "classifier_model = classifier_model.to(device)"
   ]
  },
  {
   "cell_type": "code",
   "execution_count": 11,
   "id": "bde531c6",
   "metadata": {},
   "outputs": [],
   "source": [
    "weigths = torch.load('../models/classifier/resnet.pt', map_location=device)['model']"
   ]
  },
  {
   "cell_type": "code",
   "execution_count": 12,
   "id": "527d2a3f",
   "metadata": {
    "scrolled": false
   },
   "outputs": [
    {
     "data": {
      "text/plain": [
       "<All keys matched successfully>"
      ]
     },
     "execution_count": 12,
     "metadata": {},
     "output_type": "execute_result"
    }
   ],
   "source": [
    "classifier_model.load_state_dict(weigths)"
   ]
  },
  {
   "cell_type": "code",
   "execution_count": 13,
   "id": "e1132e7d",
   "metadata": {},
   "outputs": [],
   "source": [
    "tr_pipe = transforms.Compose([\n",
    "    transforms.ToPILImage(),\n",
    "    transforms.Resize(224),\n",
    "    transforms.ToTensor(),\n",
    "    transforms.Normalize((0.485, 0.456, 0.406),\n",
    "                         (0.229, 0.224, 0.225)),\n",
    "])"
   ]
  },
  {
   "cell_type": "code",
   "execution_count": 14,
   "id": "402c3286",
   "metadata": {},
   "outputs": [],
   "source": [
    "# tr_pipe(torch.from_numpy(np.random.rand(3, 640, 640).astype(np.uint8)))"
   ]
  },
  {
   "cell_type": "code",
   "execution_count": 15,
   "id": "b81ce880",
   "metadata": {},
   "outputs": [],
   "source": [
    "images_folder = '../data/test_images/'"
   ]
  },
  {
   "cell_type": "code",
   "execution_count": 16,
   "id": "0208ee2e",
   "metadata": {},
   "outputs": [
    {
     "data": {
      "text/plain": [
       "['../data/test_images/B1.jpg',\n",
       " '../data/test_images/B10.jpg',\n",
       " '../data/test_images/B100.jpg',\n",
       " '../data/test_images/B101.jpg',\n",
       " '../data/test_images/B102.jpg']"
      ]
     },
     "execution_count": 16,
     "metadata": {},
     "output_type": "execute_result"
    }
   ],
   "source": [
    "images = [os.path.join(images_folder, path) for path in os.listdir(images_folder)]\n",
    "images = sorted(images)\n",
    "images[:5]"
   ]
  },
  {
   "cell_type": "code",
   "execution_count": 17,
   "id": "2efbcdda",
   "metadata": {},
   "outputs": [],
   "source": [
    "all_dicts = []\n",
    "for image in images:\n",
    "    attr_dict = {'filename': image.split('/')[-1], 'is_animal_there': 0, 'is_it_a_dog': 0, 'is_the_owner_there': 0, 'color': 0, 'tail': 0}\n",
    "    cv_image = cv2.imread(image)\n",
    "    cv_image = cv2.cvtColor(cv_image, cv2.COLOR_BGR2RGB)\n",
    "    res_df = yolo_model(cv_image).pandas().xywh[0]\n",
    "    animals = res_df.query(\"name=='dog' or name=='cat' or name=='bird'\")\n",
    "    if len(animals) > 0:\n",
    "        attr_dict['is_animal_there'] = 1\n",
    "        dogs = res_df.query(\"name=='dog'\")\n",
    "        if len(dogs) > 0:\n",
    "            attr_dict['is_it_a_dog'] = 1\n",
    "            best_dog = dogs.sort_values(by='confidence', ascending=False).iloc[0]\n",
    "            coords = (int(best_dog['ycenter']-best_dog['height']//2),\n",
    "                      int(best_dog['ycenter']+best_dog['height']//2), \n",
    "                      int(best_dog['xcenter']-best_dog['width']//2),\n",
    "                      int(best_dog['xcenter']+best_dog['width']//2))\n",
    "            dog_crop = cv_image[coords[0]:coords[1], coords[2]:coords[3]]\n",
    "            classes = classifier_model(tr_pipe(dog_crop).unsqueeze(0).to(device))\n",
    "            color_cl = classes['color'].argmax().cpu().detach().item() + 1\n",
    "            tail_cl = classes['tail'].argmax().cpu().detach().item() + 1\n",
    "            attr_dict['color'] = color_cl\n",
    "            attr_dict['tail'] = tail_cl\n",
    "            humans = res_df.query(\"name=='person'\")\n",
    "            if len(humans) > 0:\n",
    "                best_dog_coords = best_dog['xcenter'] ,best_dog['ycenter']\n",
    "                for i, r in humans.iterrows():\n",
    "                    person_coords = r['xcenter'], r['ycenter']\n",
    "                    dist = math.dist(person_coords, best_dog_coords)\n",
    "                    if dist <= 300:\n",
    "                        attr_dict['is_the_owner_there'] = 1\n",
    "    all_dicts.append(attr_dict)"
   ]
  },
  {
   "cell_type": "code",
   "execution_count": 18,
   "id": "75cdf666",
   "metadata": {},
   "outputs": [
    {
     "data": {
      "text/html": [
       "<div>\n",
       "<style scoped>\n",
       "    .dataframe tbody tr th:only-of-type {\n",
       "        vertical-align: middle;\n",
       "    }\n",
       "\n",
       "    .dataframe tbody tr th {\n",
       "        vertical-align: top;\n",
       "    }\n",
       "\n",
       "    .dataframe thead th {\n",
       "        text-align: right;\n",
       "    }\n",
       "</style>\n",
       "<table border=\"1\" class=\"dataframe\">\n",
       "  <thead>\n",
       "    <tr style=\"text-align: right;\">\n",
       "      <th></th>\n",
       "      <th>filename</th>\n",
       "      <th>is_animal_there</th>\n",
       "      <th>is_it_a_dog</th>\n",
       "      <th>is_the_owner_there</th>\n",
       "      <th>color</th>\n",
       "      <th>tail</th>\n",
       "    </tr>\n",
       "  </thead>\n",
       "  <tbody>\n",
       "    <tr>\n",
       "      <th>0</th>\n",
       "      <td>B1.jpg</td>\n",
       "      <td>0</td>\n",
       "      <td>0</td>\n",
       "      <td>0</td>\n",
       "      <td>0</td>\n",
       "      <td>0</td>\n",
       "    </tr>\n",
       "    <tr>\n",
       "      <th>1</th>\n",
       "      <td>B10.jpg</td>\n",
       "      <td>1</td>\n",
       "      <td>1</td>\n",
       "      <td>0</td>\n",
       "      <td>3</td>\n",
       "      <td>2</td>\n",
       "    </tr>\n",
       "    <tr>\n",
       "      <th>2</th>\n",
       "      <td>B100.jpg</td>\n",
       "      <td>0</td>\n",
       "      <td>0</td>\n",
       "      <td>0</td>\n",
       "      <td>0</td>\n",
       "      <td>0</td>\n",
       "    </tr>\n",
       "    <tr>\n",
       "      <th>3</th>\n",
       "      <td>B101.jpg</td>\n",
       "      <td>1</td>\n",
       "      <td>0</td>\n",
       "      <td>0</td>\n",
       "      <td>0</td>\n",
       "      <td>0</td>\n",
       "    </tr>\n",
       "    <tr>\n",
       "      <th>4</th>\n",
       "      <td>B102.jpg</td>\n",
       "      <td>1</td>\n",
       "      <td>1</td>\n",
       "      <td>1</td>\n",
       "      <td>3</td>\n",
       "      <td>2</td>\n",
       "    </tr>\n",
       "    <tr>\n",
       "      <th>5</th>\n",
       "      <td>B103.jpg</td>\n",
       "      <td>1</td>\n",
       "      <td>1</td>\n",
       "      <td>0</td>\n",
       "      <td>3</td>\n",
       "      <td>2</td>\n",
       "    </tr>\n",
       "    <tr>\n",
       "      <th>6</th>\n",
       "      <td>B104.jpg</td>\n",
       "      <td>1</td>\n",
       "      <td>1</td>\n",
       "      <td>1</td>\n",
       "      <td>3</td>\n",
       "      <td>2</td>\n",
       "    </tr>\n",
       "  </tbody>\n",
       "</table>\n",
       "</div>"
      ],
      "text/plain": [
       "   filename  is_animal_there  is_it_a_dog  is_the_owner_there  color  tail\n",
       "0    B1.jpg                0            0                   0      0     0\n",
       "1   B10.jpg                1            1                   0      3     2\n",
       "2  B100.jpg                0            0                   0      0     0\n",
       "3  B101.jpg                1            0                   0      0     0\n",
       "4  B102.jpg                1            1                   1      3     2\n",
       "5  B103.jpg                1            1                   0      3     2\n",
       "6  B104.jpg                1            1                   1      3     2"
      ]
     },
     "execution_count": 18,
     "metadata": {},
     "output_type": "execute_result"
    }
   ],
   "source": [
    "ai_results = pd.DataFrame(all_dicts)\n",
    "ai_results.head(7)"
   ]
  },
  {
   "cell_type": "code",
   "execution_count": 18,
   "id": "2436622c",
   "metadata": {},
   "outputs": [],
   "source": [
    "# ai_results.to_csv('test_results_5.csv')"
   ]
  },
  {
   "cell_type": "code",
   "execution_count": null,
   "id": "dae71ae8",
   "metadata": {},
   "outputs": [],
   "source": []
  },
  {
   "cell_type": "code",
   "execution_count": 38,
   "id": "e48be766",
   "metadata": {},
   "outputs": [
    {
     "name": "stdout",
     "output_type": "stream",
     "text": [
      "<class 'pandas.core.frame.DataFrame'>\n",
      "Int64Index: 314 entries, 8 to 310\n",
      "Data columns (total 3 columns):\n",
      " #   Column    Non-Null Count  Dtype \n",
      "---  ------    --------------  ----- \n",
      " 0   filename  314 non-null    object\n",
      " 1   cam_id    240 non-null    object\n",
      " 2   address   220 non-null    object\n",
      "dtypes: object(3)\n",
      "memory usage: 9.8+ KB\n"
     ]
    }
   ],
   "source": [
    "addr_and_cams = pd.read_csv('csv/addr_and_cams.csv', sep=',', index_col=0)\n",
    "addr_and_cams = addr_and_cams.sort_values(by='filename', ascending=True)\n",
    "addr_and_cams.info()"
   ]
  },
  {
   "cell_type": "code",
   "execution_count": 39,
   "id": "16ba1f02",
   "metadata": {},
   "outputs": [
    {
     "name": "stdout",
     "output_type": "stream",
     "text": [
      "<class 'pandas.core.frame.DataFrame'>\n",
      "Int64Index: 220 entries, 8 to 310\n",
      "Data columns (total 3 columns):\n",
      " #   Column    Non-Null Count  Dtype \n",
      "---  ------    --------------  ----- \n",
      " 0   filename  220 non-null    object\n",
      " 1   cam_id    220 non-null    object\n",
      " 2   address   220 non-null    object\n",
      "dtypes: object(3)\n",
      "memory usage: 6.9+ KB\n"
     ]
    }
   ],
   "source": [
    "not_null = addr_and_cams[addr_and_cams.notna().all(axis=1)]\n",
    "not_null.info()"
   ]
  },
  {
   "cell_type": "code",
   "execution_count": 40,
   "id": "5fe40dfe",
   "metadata": {},
   "outputs": [
    {
     "name": "stdout",
     "output_type": "stream",
     "text": [
      "<class 'pandas.core.frame.DataFrame'>\n",
      "Int64Index: 94 entries, 309 to 303\n",
      "Data columns (total 3 columns):\n",
      " #   Column    Non-Null Count  Dtype \n",
      "---  ------    --------------  ----- \n",
      " 0   filename  94 non-null     object\n",
      " 1   cam_id    20 non-null     object\n",
      " 2   address   0 non-null      object\n",
      "dtypes: object(3)\n",
      "memory usage: 2.9+ KB\n"
     ]
    }
   ],
   "source": [
    "with_null = addr_and_cams[addr_and_cams.isna().any(axis=1)]\n",
    "with_null.info()"
   ]
  },
  {
   "cell_type": "code",
   "execution_count": null,
   "id": "e8a4cbb1",
   "metadata": {},
   "outputs": [],
   "source": []
  },
  {
   "cell_type": "code",
   "execution_count": 41,
   "id": "4e9e729f",
   "metadata": {},
   "outputs": [],
   "source": [
    "# template_im = cv2.imread('../data/test_images/B106.jpg')\n",
    "# template_im = cv2.cvtColor(template_im, cv2.COLOR_BGR2GRAY)"
   ]
  },
  {
   "cell_type": "code",
   "execution_count": 42,
   "id": "8d8e0436",
   "metadata": {},
   "outputs": [],
   "source": [
    "# test_on_im = cv2.imread('../data/test_images/А28.jpg')\n",
    "# test_on_im = cv2.cvtColor(test_on_im, cv2.COLOR_BGR2GRAY)"
   ]
  },
  {
   "cell_type": "code",
   "execution_count": 43,
   "id": "427f884d",
   "metadata": {},
   "outputs": [],
   "source": [
    "# template_im.shape, test_on_im.shape"
   ]
  },
  {
   "cell_type": "code",
   "execution_count": 44,
   "id": "35842795",
   "metadata": {},
   "outputs": [],
   "source": [
    "# not_null_addrs[not_null_addrs['filename'] == 'B113.jpg']"
   ]
  },
  {
   "cell_type": "code",
   "execution_count": 45,
   "id": "37e63984",
   "metadata": {},
   "outputs": [],
   "source": [
    "# res = cv2.matchTemplate(test_on_im, template_im, cv2.TM_CCOEFF_NORMED)\n",
    "# np.where(res[0] >= 0.5)[0].shape"
   ]
  },
  {
   "cell_type": "code",
   "execution_count": 46,
   "id": "dc948c43",
   "metadata": {},
   "outputs": [],
   "source": [
    "# %matplotlib\n",
    "# plt.figure(figsize = (20,20))\n",
    "# plt.imshow(np.squeeze(nd_array))\n",
    "# plt.show()"
   ]
  },
  {
   "cell_type": "code",
   "execution_count": 47,
   "id": "cf4a7805",
   "metadata": {},
   "outputs": [],
   "source": [
    "# for _, r1 in null_addrs.iterrows():\n",
    "#     print(isinstance(r1['cam_id'], float))"
   ]
  },
  {
   "cell_type": "code",
   "execution_count": 48,
   "id": "efaef779",
   "metadata": {},
   "outputs": [
    {
     "name": "stdout",
     "output_type": "stream",
     "text": [
      "Best tuple for B102.jpg is (618, 'город Москва, Клязьминская улица, дом 5, корпус 1', 'PVN_hd_SAO_3465_1')\n",
      "Best tuple for B105.jpg is (260, 'город Москва, Верхняя Сыромятническая улица, дом 2', 'PVN_hd_TSAO_5300_3')\n",
      "Best tuple for B106.jpg is (239, 'город Москва, Верхняя Сыромятническая улица, дом 2', 'PVN_hd_TSAO_5300_3')\n",
      "Best tuple for B107.jpg is (272, 'САО Ленинградский проспект, дом 36', 'UVN_SAO_027_7')\n",
      "Best tuple for B11.jpg is (119, 'город Москва, 1-й Нижний Михайловский проезд, дом 16', 'PVN_hd_UAO_7270_3')\n",
      "Best tuple for B111.jpg is (694, 'город Москва, Малая Пионерская улица, дом 23-31, строение 1', 'PVN_hd_TSAO_3847_1')\n",
      "Best tuple for B112.jpg is (145, 'город Москва, Верхняя Сыромятническая улица, дом 2', 'PVN_hd_TSAO_5300_1')\n",
      "Best tuple for B116.jpg is (7, 'город Москва, Новоалексеевская улица, дом 5А', 'PVN_hd_SVAO_3040_1')\n",
      "Best tuple for B117.jpg is (71, 'город Москва, проспект Мира, дом 182, корпус 3', 'PVN_hd_SVAO_3055_1')\n",
      "Best tuple for B118.jpg is (0, 'город Москва, улица Академика Королёва, дом 28, корпус 2', 'PVN_hd_SVAO_1652_1')\n",
      "Best tuple for B119.jpg is (0, 'город Москва, улица Академика Королёва, дом 28, корпус 2', 'PVN_hd_SVAO_1652_1')\n",
      "Best tuple for B120.jpg is (7, 'Российская Федерация, город Москва, внутригородская территория муниципальный округ Алексеевский, улица Бориса Галушкина, дом 25', 'PVN_hd_SVAO_3087_5')\n",
      "Best tuple for B14.jpg is (575, 'город Москва, Левобережная улица, дом 4, корпус 12', 'PVN_hd_SAO_6159_54')\n",
      "Best tuple for B16.jpg is (704, 'город Москва, Левобережная улица, дом 4, корпус 12', 'PVN_hd_SAO_6159_54')\n",
      "Best tuple for B18.jpg is (692, 'город Москва, Левобережная улица, дом 4, корпус 12', 'PVN_hd_SAO_6159_54')\n",
      "Best tuple for B19.jpg is (641, 'город Москва, Клязьминская улица, дом 5, корпус 1', 'PVN_hd_SAO_3465_1')\n",
      "Best tuple for B23.jpg is (533, 'город Москва, Мелиховская улица, дом 2', 'PVN_hd_SVAO_3426_1')\n",
      "Best tuple for B24.jpg is (971, 'город Москва, Малая Пионерская улица, дом 23-31, строение 1', 'PVN_hd_TSAO_3847_1')\n",
      "Best tuple for B25.jpg is (556, 'город Москва, Мелиховская улица, дом 2', 'PVN_hd_SVAO_3426_1')\n",
      "Best tuple for B26.jpg is (552, 'город Москва, Мелиховская улица, дом 2', 'PVN_hd_SVAO_3426_1')\n",
      "Best tuple for B39.jpg is (353, 'город Москва, Левобережная улица, дом 4, корпус 12', 'PVN_hd_SAO_6159_54')\n",
      "Best tuple for B4.jpg is (5, 'город Москва, улица Академика Королёва, дом 28, корпус 2', 'PVN_hd_SVAO_1652_1')\n",
      "Best tuple for B44.jpg is (7, 'город Москва, Новоалексеевская улица, дом 5А', 'PVN_hd_SVAO_3040_1')\n",
      "Best tuple for B48.jpg is (484, 'город Москва, улица Корнейчука, дом 41А', 'PVN_hd_SVAO_3498_4')\n",
      "Best tuple for B56.jpg is (390, 'город Москва, Верхняя Сыромятническая улица, дом 2', 'PVN_hd_TSAO_5300_3')\n",
      "Best tuple for B57.jpg is (284, 'САО Ленинградский проспект, дом 36', 'UVN_SAO_027_7')\n",
      "Best tuple for B59.jpg is (166, 'город Москва, Верхняя Сыромятническая улица, дом 2', 'PVN_hd_TSAO_5300_3')\n",
      "Best tuple for B74.jpg is (259, 'САО Ленинградский проспект, дом 36', 'UVN_SAO_027_7')\n",
      "Best tuple for B78.jpg is (258, 'САО Ленинградский проспект, дом 36', 'UVN_SAO_027_7')\n",
      "Best tuple for B8.jpg is (306, 'Российская Федерация, город Москва, внутригородская территория муниципальный округ Басманный, Садовая-Черногрязская улица, дом 16-18, строение 1', 'PVN_hd_TSAO_3562_4')\n",
      "Best tuple for B81.jpg is (1006, 'город Москва, Верхняя Сыромятническая улица, дом 2', 'PVN_hd_TSAO_5300_3')\n",
      "Best tuple for B82.jpg is (712, 'город Москва, Малая Пионерская улица, дом 23-31, строение 1', 'PVN_hd_TSAO_3847_1')\n",
      "Best tuple for А101.jpg is (1, 'САО Ленинградский проспект, дом 36', 'PVN_hd_UAO_1412 4')\n",
      "Best tuple for А102.jpg is (741, 'город Москва, Мелиховская улица, дом 2', 'PVN_hd_SVAO_3426_1')\n",
      "Best tuple for А13.jpg is (626, 'САО Ленинградский проспект, дом 36', 'UVN_SAO_027_8')\n",
      "Best tuple for А18.jpg is (389, 'САО Ленинградский проспект, дом 36', 'UVN_SAO_027_8')\n",
      "Best tuple for А19.jpg is (0, 'город Москва, улица Академика Королёва, дом 28, корпус 2', 'PVN_hd_SVAO_1652_1')\n",
      "Best tuple for А27.jpg is (694, 'САО Ленинградский проспект, дом 36', 'UVN_SAO_027_8')\n",
      "Best tuple for А31.jpg is (410, 'САО Ленинградский проспект, дом 36', 'UVN_SAO_027_8')\n",
      "Best tuple for А32.jpg is (22, 'Российская Федерация, город Москва, внутригородская территория муниципальный округ Басманный, Садовая-Черногрязская улица, дом 16-18, строение 1', 'PVN_hd_TSAO_3562_4')\n",
      "Best tuple for А34.jpg is (12, 'город Москва, улица Исаковского, дом 28, корпус 1', 'PVN_hd_5ZA0_5745_1')\n",
      "Best tuple for А35.jpg is (13, 'город Москва, улица Исаковского, дом 28, корпус 1', 'PVN_hd_5ZA0_5745_1')\n",
      "Best tuple for А36.jpg is (16, 'город Москва, улица Исаковского, дом 28, корпус 1', 'PVN_hd_5ZA0_5745_1')\n",
      "Best tuple for А38.jpg is (27, 'город Москва, улица Исаковского, дом 28, корпус 1', 'PVN_hd_SZAO_5745_1')\n",
      "Best tuple for А39.jpg is (23, 'город Москва, улица Исаковского, дом 28, корпус 1', 'PVN_hd_SZAO_5745_1')\n",
      "Best tuple for А49.jpg is (575, 'город Москва, Шелепихинская набережная, дом 22', 'PVN_hd_TSAO_4915_2')\n",
      "Best tuple for А51.jpg is (757, 'город Москва, Шелепихинская набережная, дом 22', 'PVN_hd_TSAO_4915_2')\n",
      "Best tuple for А53.jpg is (438, 'город Москва, Клязьминская улица, дом 5, корпус 1', 'PVN_hd_ZAO_9544 4')\n",
      "Best tuple for А54.jpg is (530, 'город Москва, Домодедовская улица, дом 24, корпус 4', 'PVN_hd_ZAO_9544 4')\n",
      "Best tuple for А55.jpg is (606, 'город Москва, переулок Огородная Слобода, дом 10', 'PVN_hd_TSAO_3437_1')\n",
      "Best tuple for А56.jpg is (507, 'город Москва, Домодедовская улица, дом 24, корпус 4', 'PVN_hd_ZAO_9544 4')\n",
      "Best tuple for А57.jpg is (418, 'город Москва, Филёвский бульвар, дом 15', 'PVN_hd_ZAO_9544 4')\n",
      "Best tuple for А58.jpg is (464, 'город Москва, Домодедовская улица, дом 24, корпус 4', 'PVN_hd_ZAO_9544 4')\n",
      "Best tuple for А59.jpg is (606, 'город Москва, Верхняя Сыромятническая улица, дом 2', 'PVN_hd_TSAO_5300_3')\n",
      "Best tuple for А6.jpg is (13, 'город Москва, улица Свободы, дом 3', 'PVN_hd_SZAO_36_3')\n",
      "Best tuple for А60.jpg is (319, 'город Москва, Мелиховская улица, дом 2', 'PVN_hd_SVAO_3426_1')\n",
      "Best tuple for А61.jpg is (399, 'город Москва, Домодедовская улица, дом 24, корпус 4', 'PVN_hd_ZAO_9544 4')\n",
      "Best tuple for А62.jpg is (444, 'город Москва, Клязьминская улица, дом 5, корпус 1', 'PVN_hd_ZAO_9544 4')\n",
      "Best tuple for А63.jpg is (610, 'город Москва, Левобережная улица, дом 4, корпус 12', 'PVN_hd_ZAO_9544 4')\n",
      "Best tuple for А66.jpg is (3, 'город Москва, улица Академика Варги, дом 28', 'PVN_hd_UZAO_1100_15')\n",
      "Best tuple for А67.jpg is (84, 'город Москва, Филёвский бульвар, дом 15', 'PVN_hd_ZAO_10482_1')\n",
      "Best tuple for А7.jpg is (535, 'город Москва, Верхняя Сыромятническая улица, дом 2', 'PVN_hd_TSAO_5300_3')\n",
      "Best tuple for А78.jpg is (171, 'город Москва, Чертановская улица, дом 66, корпус 4', 'PVN_hd_UAO_2582_4')\n",
      "Best tuple for А79.jpg is (0, 'город Москва, улица Академика Королёва, дом 28, корпус 2', 'PVN_hd_SVAO_1652_1')\n",
      "Best tuple for А8.jpg is (584, 'САО Ленинградский проспект, дом 36', 'UVN_SAO_027_8')\n",
      "Best tuple for А82.jpg is (95, 'САО Ленинградский проспект, дом 36', 'UVN_SAO_027_7')\n",
      "Best tuple for А9.jpg is (0, 'город Москва, улица Академика Королёва, дом 28, корпус 2', 'PVN_hd_SVAO_1652_1')\n",
      "Best tuple for А90.jpg is (269, 'город Москва, Филёвский бульвар, дом 15', 'PVN_hd_ZAO_10482_1')\n",
      "Best tuple for А91.jpg is (612, 'город Москва, 1-й Нижний Михайловский проезд, дом 16', 'PVN_hd_UAO_7270_3')\n",
      "Best tuple for А93.jpg is (490, 'город Москва, Малая Пионерская улица, дом 23-31, строение 1', 'PVN_hd_TSAO_3847_1')\n",
      "Best tuple for А98.jpg is (9, 'город Москва, улица Каховка, дом 18, корпус 5', 'PVN_hd_UZAO_8352_4')\n",
      "Best tuple for С102.jpg is (146, 'САО Ленинградский проспект, дом 36', 'UVN_SAO_027_8')\n",
      "Best tuple for С103.jpg is (387, 'город Москва, Верхняя Сыромятническая улица, дом 2', 'PVN_hd_TSAO_5300_3')\n",
      "Best tuple for С21.jpg is (797, 'город Москва, Новая Басманная улица, дом 14, строение 3', 'PVN_hd_TSAO_3137_1')\n",
      "Best tuple for С25.jpg is (613, 'город Москва, Левобережная улица, дом 4, корпус 12', 'PVN_hd_SAO_6159_54')\n",
      "Best tuple for С34.jpg is (853, 'город Москва, Мелиховская улица, дом 2', 'PVN_hd_SVAO_3426_1')\n",
      "Best tuple for С35.jpg is (571, 'город Москва, Левобережная улица, дом 4, корпус 12', 'PVN_hd_SAO_6159_54')\n"
     ]
    },
    {
     "name": "stdout",
     "output_type": "stream",
     "text": [
      "Best tuple for С38.jpg is (448, 'город Москва, 1-й Нижний Михайловский проезд, дом 16', 'PVN_hd_UAO_7270_3')\n",
      "Best tuple for С44.jpg is (900, 'город Москва, Малая Пионерская улица, дом 23-31, строение 1', 'PVN_hd_TSAO_3847_1')\n",
      "Best tuple for С45.jpg is (708, 'город Москва, Левобережная улица, дом 4, корпус 12', '7228.1')\n",
      "Best tuple for С47.jpg is (545, 'город Москва, Мелиховская улица, дом 2', 'PVN_hd_SVAO_3426_1')\n",
      "Best tuple for С48.jpg is (530, 'город Москва, Мелиховская улица, дом 2', 'PVN_hd_SVAO_3426_1')\n",
      "Best tuple for С54.jpg is (465, 'город Москва, Левобережная улица, дом 4, корпус 12', 'PVN_hd_SAO_6159_54')\n",
      "Best tuple for С62.jpg is (860, 'город Москва, Малая Пионерская улица, дом 23-31, строение 1', 'PVN_hd_TSAO_3847_1')\n",
      "Best tuple for С70.jpg is (689, 'город Москва, Мелиховская улица, дом 2', 'PVN_hd_SVAO_3426_1')\n",
      "Best tuple for С78.jpg is (24, 'город Москва, 1-й Нижний Михайловский проезд, дом 16', 'PVN_hd_UAO_7270_3')\n",
      "Best tuple for С8.jpg is (478, 'город Москва, Левобережная улица, дом 4, корпус 12', 'PVN_hd_SAO_2_7228.1')\n",
      "Best tuple for С80.jpg is (391, 'город Москва, улица Корнейчука, дом 41А', 'PVN_hd_SAO_2_7228.1')\n",
      "Best tuple for С81.jpg is (0, 'город Москва, улица Академика Королёва, дом 28, корпус 2', 'PVN_hd VAO_6390_22')\n",
      "Best tuple for С82.jpg is (0, 'город Москва, улица Академика Королёва, дом 28, корпус 2', 'PVN_hd VAO_6390_22')\n",
      "Best tuple for С83.jpg is (0, 'город Москва, улица Академика Королёва, дом 28, корпус 2', 'PVN_hd VAO_6390_22')\n",
      "Best tuple for С85.jpg is (323, 'город Москва, Шелепихинская набережная, дом 22', 'PARK_VAO_197_14 30')\n",
      "Best tuple for С86.jpg is (651, 'САО Ленинградский проспект, дом 36', 'PARK_VAO_197_14 67')\n",
      "Best tuple for С94.jpg is (722, 'город Москва, Левобережная улица, дом 4, корпус 12', 'PVN_hd_SAO_6159_54')\n"
     ]
    }
   ],
   "source": [
    "for _, r1 in with_null.iterrows():\n",
    "    \n",
    "    template_path = os.path.join(images_folder, r1['filename'])\n",
    "    template_im = cv2.imread(template_path)\n",
    "    template_im = cv2.cvtColor(template_im, cv2.COLOR_BGR2GRAY)\n",
    "    \n",
    "    best_test_on = (-1, None, None)\n",
    "    \n",
    "    for _, r2 in not_null.iterrows():\n",
    "#         print(f\"Testing {r2['filename']}, current tuple {best_test_on} \")\n",
    "        try:\n",
    "            test_on_path = os.path.join(images_folder, r2['filename'])\n",
    "            test_on_im = cv2.imread(test_on_path)\n",
    "            test_on_im = cv2.cvtColor(test_on_im, cv2.COLOR_BGR2GRAY)\n",
    "            res = cv2.matchTemplate(test_on_im, template_im, cv2.TM_CCOEFF_NORMED)\n",
    "            score = np.where(res[0] >= 0.5)[0].shape[0]\n",
    "            if best_test_on[0] < score:\n",
    "                best_test_on = (score, r2['address'], r2['cam_id'] if isinstance(r1['cam_id'], float) else r1['cam_id'])\n",
    "            del test_on_im, res\n",
    "        except:\n",
    "            pass\n",
    "    \n",
    "    print(f\"Best tuple for {r1['filename']} is {best_test_on}\")\n",
    "    \n",
    "    addr_and_cams.loc[addr_and_cams['filename'] == r1['filename'], 'address'] = best_test_on[1]\n",
    "    addr_and_cams.loc[addr_and_cams['filename'] == r1['filename'], 'cam_id'] = best_test_on[2]\n",
    "    \n",
    "#     print(addr_and_cams.loc[addr_and_cams['filename'] == r1['filename']])\n",
    "    \n",
    "    del template_im"
   ]
  },
  {
   "cell_type": "code",
   "execution_count": 49,
   "id": "cedb200d",
   "metadata": {},
   "outputs": [],
   "source": [
    "addr_and_cams.to_csv('csv/addr_and_cams_fixed.csv')"
   ]
  },
  {
   "cell_type": "code",
   "execution_count": 50,
   "id": "39ee81fc",
   "metadata": {},
   "outputs": [
    {
     "data": {
      "text/html": [
       "<div>\n",
       "<style scoped>\n",
       "    .dataframe tbody tr th:only-of-type {\n",
       "        vertical-align: middle;\n",
       "    }\n",
       "\n",
       "    .dataframe tbody tr th {\n",
       "        vertical-align: top;\n",
       "    }\n",
       "\n",
       "    .dataframe thead th {\n",
       "        text-align: right;\n",
       "    }\n",
       "</style>\n",
       "<table border=\"1\" class=\"dataframe\">\n",
       "  <thead>\n",
       "    <tr style=\"text-align: right;\">\n",
       "      <th></th>\n",
       "      <th>filename</th>\n",
       "      <th>cam_id</th>\n",
       "      <th>address</th>\n",
       "    </tr>\n",
       "  </thead>\n",
       "  <tbody>\n",
       "    <tr>\n",
       "      <th>8</th>\n",
       "      <td>B1.jpg</td>\n",
       "      <td>PVN_hd_SVAO_1652_1</td>\n",
       "      <td>город Москва, улица Академика Королёва, дом 28...</td>\n",
       "    </tr>\n",
       "    <tr>\n",
       "      <th>3</th>\n",
       "      <td>B10.jpg</td>\n",
       "      <td>PVN_hd_SVAO_1652_1</td>\n",
       "      <td>город Москва, улица Академика Королёва, дом 28...</td>\n",
       "    </tr>\n",
       "    <tr>\n",
       "      <th>4</th>\n",
       "      <td>B100.jpg</td>\n",
       "      <td>PVN_hd_UZAO_8772_3</td>\n",
       "      <td>город Москва, улица Кадырова, дом 4</td>\n",
       "    </tr>\n",
       "    <tr>\n",
       "      <th>1</th>\n",
       "      <td>B101.jpg</td>\n",
       "      <td>PVN_hd_UZAO_8772_3</td>\n",
       "      <td>город Москва, улица Кадырова, дом 4</td>\n",
       "    </tr>\n",
       "    <tr>\n",
       "      <th>309</th>\n",
       "      <td>B102.jpg</td>\n",
       "      <td>PVN_hd_SAO_3465_1</td>\n",
       "      <td>город Москва, Клязьминская улица, дом 5, корпус 1</td>\n",
       "    </tr>\n",
       "    <tr>\n",
       "      <th>...</th>\n",
       "      <td>...</td>\n",
       "      <td>...</td>\n",
       "      <td>...</td>\n",
       "    </tr>\n",
       "    <tr>\n",
       "      <th>305</th>\n",
       "      <td>С95.jpg</td>\n",
       "      <td>PVN_hd_SAO_2559_3</td>\n",
       "      <td>город Москва, 1-й Амбулаторный проезд, дом 7, ...</td>\n",
       "    </tr>\n",
       "    <tr>\n",
       "      <th>306</th>\n",
       "      <td>С96.jpg</td>\n",
       "      <td>PVN_hd_TSAO_3647_1</td>\n",
       "      <td>город Москва, Центросоюзный переулок, дом 4</td>\n",
       "    </tr>\n",
       "    <tr>\n",
       "      <th>312</th>\n",
       "      <td>С97.jpg</td>\n",
       "      <td>PVN_hd_TSAO_3647_1</td>\n",
       "      <td>город Москва, Центросоюзный переулок, дом 4</td>\n",
       "    </tr>\n",
       "    <tr>\n",
       "      <th>313</th>\n",
       "      <td>С98.jpg</td>\n",
       "      <td>PVN_hd_TSAO_3647_1</td>\n",
       "      <td>город Москва, Центросоюзный переулок, дом 4</td>\n",
       "    </tr>\n",
       "    <tr>\n",
       "      <th>310</th>\n",
       "      <td>С99.jpg</td>\n",
       "      <td>PVN_hd_TSAO_3647_1</td>\n",
       "      <td>город Москва, Центросоюзный переулок, дом 4</td>\n",
       "    </tr>\n",
       "  </tbody>\n",
       "</table>\n",
       "<p>314 rows × 3 columns</p>\n",
       "</div>"
      ],
      "text/plain": [
       "     filename              cam_id  \\\n",
       "8      B1.jpg  PVN_hd_SVAO_1652_1   \n",
       "3     B10.jpg  PVN_hd_SVAO_1652_1   \n",
       "4    B100.jpg  PVN_hd_UZAO_8772_3   \n",
       "1    B101.jpg  PVN_hd_UZAO_8772_3   \n",
       "309  B102.jpg   PVN_hd_SAO_3465_1   \n",
       "..        ...                 ...   \n",
       "305   С95.jpg   PVN_hd_SAO_2559_3   \n",
       "306   С96.jpg  PVN_hd_TSAO_3647_1   \n",
       "312   С97.jpg  PVN_hd_TSAO_3647_1   \n",
       "313   С98.jpg  PVN_hd_TSAO_3647_1   \n",
       "310   С99.jpg  PVN_hd_TSAO_3647_1   \n",
       "\n",
       "                                               address  \n",
       "8    город Москва, улица Академика Королёва, дом 28...  \n",
       "3    город Москва, улица Академика Королёва, дом 28...  \n",
       "4                  город Москва, улица Кадырова, дом 4  \n",
       "1                  город Москва, улица Кадырова, дом 4  \n",
       "309  город Москва, Клязьминская улица, дом 5, корпус 1  \n",
       "..                                                 ...  \n",
       "305  город Москва, 1-й Амбулаторный проезд, дом 7, ...  \n",
       "306        город Москва, Центросоюзный переулок, дом 4  \n",
       "312        город Москва, Центросоюзный переулок, дом 4  \n",
       "313        город Москва, Центросоюзный переулок, дом 4  \n",
       "310        город Москва, Центросоюзный переулок, дом 4  \n",
       "\n",
       "[314 rows x 3 columns]"
      ]
     },
     "execution_count": 50,
     "metadata": {},
     "output_type": "execute_result"
    }
   ],
   "source": []
  },
  {
   "cell_type": "code",
   "execution_count": 53,
   "id": "42fec45d",
   "metadata": {},
   "outputs": [
    {
     "data": {
      "text/html": [
       "<div>\n",
       "<style scoped>\n",
       "    .dataframe tbody tr th:only-of-type {\n",
       "        vertical-align: middle;\n",
       "    }\n",
       "\n",
       "    .dataframe tbody tr th {\n",
       "        vertical-align: top;\n",
       "    }\n",
       "\n",
       "    .dataframe thead th {\n",
       "        text-align: right;\n",
       "    }\n",
       "</style>\n",
       "<table border=\"1\" class=\"dataframe\">\n",
       "  <thead>\n",
       "    <tr style=\"text-align: right;\">\n",
       "      <th></th>\n",
       "      <th>filename</th>\n",
       "      <th>is_animal_there</th>\n",
       "      <th>is_it_a_dog</th>\n",
       "      <th>is_the_owner_there</th>\n",
       "      <th>color</th>\n",
       "      <th>tail</th>\n",
       "      <th>cam_id</th>\n",
       "      <th>address</th>\n",
       "    </tr>\n",
       "  </thead>\n",
       "  <tbody>\n",
       "    <tr>\n",
       "      <th>0</th>\n",
       "      <td>B1.jpg</td>\n",
       "      <td>0</td>\n",
       "      <td>0</td>\n",
       "      <td>0</td>\n",
       "      <td>0</td>\n",
       "      <td>0</td>\n",
       "      <td>PVN_hd_SVAO_3498_4</td>\n",
       "      <td>город Москва, улица Корнейчука, дом 41А</td>\n",
       "    </tr>\n",
       "    <tr>\n",
       "      <th>1</th>\n",
       "      <td>B10.jpg</td>\n",
       "      <td>1</td>\n",
       "      <td>1</td>\n",
       "      <td>0</td>\n",
       "      <td>3</td>\n",
       "      <td>2</td>\n",
       "      <td>PVN_hd_UZAO_8772_3</td>\n",
       "      <td>город Москва, улица Кадырова, дом 4</td>\n",
       "    </tr>\n",
       "    <tr>\n",
       "      <th>2</th>\n",
       "      <td>B100.jpg</td>\n",
       "      <td>0</td>\n",
       "      <td>0</td>\n",
       "      <td>0</td>\n",
       "      <td>0</td>\n",
       "      <td>0</td>\n",
       "      <td>PVN_hd_SVAO_3055_1</td>\n",
       "      <td>город Москва, проспект Мира, дом 182, корпус 3</td>\n",
       "    </tr>\n",
       "    <tr>\n",
       "      <th>3</th>\n",
       "      <td>B101.jpg</td>\n",
       "      <td>1</td>\n",
       "      <td>0</td>\n",
       "      <td>0</td>\n",
       "      <td>0</td>\n",
       "      <td>0</td>\n",
       "      <td>PVN_hd_SVAO_1652_1</td>\n",
       "      <td>город Москва, улица Академика Королёва, дом 28...</td>\n",
       "    </tr>\n",
       "    <tr>\n",
       "      <th>4</th>\n",
       "      <td>B102.jpg</td>\n",
       "      <td>1</td>\n",
       "      <td>1</td>\n",
       "      <td>1</td>\n",
       "      <td>3</td>\n",
       "      <td>2</td>\n",
       "      <td>PVN_hd_UZAO_8772_3</td>\n",
       "      <td>город Москва, улица Кадырова, дом 4</td>\n",
       "    </tr>\n",
       "    <tr>\n",
       "      <th>5</th>\n",
       "      <td>B103.jpg</td>\n",
       "      <td>1</td>\n",
       "      <td>1</td>\n",
       "      <td>0</td>\n",
       "      <td>3</td>\n",
       "      <td>2</td>\n",
       "      <td>PVN_hd_TSAO_5300_3</td>\n",
       "      <td>город Москва, Верхняя Сыромятническая улица, д...</td>\n",
       "    </tr>\n",
       "    <tr>\n",
       "      <th>6</th>\n",
       "      <td>B104.jpg</td>\n",
       "      <td>1</td>\n",
       "      <td>1</td>\n",
       "      <td>1</td>\n",
       "      <td>3</td>\n",
       "      <td>2</td>\n",
       "      <td>UVN_SAO_027_7</td>\n",
       "      <td>САО Ленинградский проспект, дом 36</td>\n",
       "    </tr>\n",
       "    <tr>\n",
       "      <th>7</th>\n",
       "      <td>B105.jpg</td>\n",
       "      <td>1</td>\n",
       "      <td>0</td>\n",
       "      <td>0</td>\n",
       "      <td>0</td>\n",
       "      <td>0</td>\n",
       "      <td>PVN_hd_UZAO_8740_4</td>\n",
       "      <td>город Москва, улица Академика Семёнова, дом 3</td>\n",
       "    </tr>\n",
       "    <tr>\n",
       "      <th>8</th>\n",
       "      <td>B106.jpg</td>\n",
       "      <td>1</td>\n",
       "      <td>0</td>\n",
       "      <td>0</td>\n",
       "      <td>0</td>\n",
       "      <td>0</td>\n",
       "      <td>PVN_hd_SVAO_1652_1</td>\n",
       "      <td>город Москва, улица Академика Королёва, дом 28...</td>\n",
       "    </tr>\n",
       "    <tr>\n",
       "      <th>9</th>\n",
       "      <td>B107.jpg</td>\n",
       "      <td>1</td>\n",
       "      <td>1</td>\n",
       "      <td>0</td>\n",
       "      <td>3</td>\n",
       "      <td>1</td>\n",
       "      <td>PVN_hd_SVAO_3055_1</td>\n",
       "      <td>город Москва, проспект Мира, дом 182, корпус 3</td>\n",
       "    </tr>\n",
       "  </tbody>\n",
       "</table>\n",
       "</div>"
      ],
      "text/plain": [
       "   filename  is_animal_there  is_it_a_dog  is_the_owner_there  color  tail  \\\n",
       "0    B1.jpg                0            0                   0      0     0   \n",
       "1   B10.jpg                1            1                   0      3     2   \n",
       "2  B100.jpg                0            0                   0      0     0   \n",
       "3  B101.jpg                1            0                   0      0     0   \n",
       "4  B102.jpg                1            1                   1      3     2   \n",
       "5  B103.jpg                1            1                   0      3     2   \n",
       "6  B104.jpg                1            1                   1      3     2   \n",
       "7  B105.jpg                1            0                   0      0     0   \n",
       "8  B106.jpg                1            0                   0      0     0   \n",
       "9  B107.jpg                1            1                   0      3     1   \n",
       "\n",
       "               cam_id                                            address  \n",
       "0  PVN_hd_SVAO_3498_4            город Москва, улица Корнейчука, дом 41А  \n",
       "1  PVN_hd_UZAO_8772_3                город Москва, улица Кадырова, дом 4  \n",
       "2  PVN_hd_SVAO_3055_1     город Москва, проспект Мира, дом 182, корпус 3  \n",
       "3  PVN_hd_SVAO_1652_1  город Москва, улица Академика Королёва, дом 28...  \n",
       "4  PVN_hd_UZAO_8772_3                город Москва, улица Кадырова, дом 4  \n",
       "5  PVN_hd_TSAO_5300_3  город Москва, Верхняя Сыромятническая улица, д...  \n",
       "6       UVN_SAO_027_7                 САО Ленинградский проспект, дом 36  \n",
       "7  PVN_hd_UZAO_8740_4      город Москва, улица Академика Семёнова, дом 3  \n",
       "8  PVN_hd_SVAO_1652_1  город Москва, улица Академика Королёва, дом 28...  \n",
       "9  PVN_hd_SVAO_3055_1     город Москва, проспект Мира, дом 182, корпус 3  "
      ]
     },
     "execution_count": 53,
     "metadata": {},
     "output_type": "execute_result"
    }
   ],
   "source": [
    "results = pd.concat([ai_results, addr_and_cams[['cam_id', 'address']]], axis=1)\n",
    "results.head(10)"
   ]
  },
  {
   "cell_type": "code",
   "execution_count": 54,
   "id": "55a5a198",
   "metadata": {},
   "outputs": [
    {
     "name": "stdout",
     "output_type": "stream",
     "text": [
      "<class 'pandas.core.frame.DataFrame'>\n",
      "Int64Index: 314 entries, 0 to 313\n",
      "Data columns (total 8 columns):\n",
      " #   Column              Non-Null Count  Dtype \n",
      "---  ------              --------------  ----- \n",
      " 0   filename            314 non-null    object\n",
      " 1   is_animal_there     314 non-null    int64 \n",
      " 2   is_it_a_dog         314 non-null    int64 \n",
      " 3   is_the_owner_there  314 non-null    int64 \n",
      " 4   color               314 non-null    int64 \n",
      " 5   tail                314 non-null    int64 \n",
      " 6   cam_id              314 non-null    object\n",
      " 7   address             314 non-null    object\n",
      "dtypes: int64(5), object(3)\n",
      "memory usage: 22.1+ KB\n"
     ]
    }
   ],
   "source": [
    "results.info()"
   ]
  },
  {
   "cell_type": "code",
   "execution_count": 55,
   "id": "4e735e9d",
   "metadata": {},
   "outputs": [],
   "source": [
    "results.to_csv('csv/results.csv')"
   ]
  }
 ],
 "metadata": {
  "kernelspec": {
   "display_name": "Python 3 (ipykernel)",
   "language": "python",
   "name": "python3"
  },
  "language_info": {
   "codemirror_mode": {
    "name": "ipython",
    "version": 3
   },
   "file_extension": ".py",
   "mimetype": "text/x-python",
   "name": "python",
   "nbconvert_exporter": "python",
   "pygments_lexer": "ipython3",
   "version": "3.9.7"
  }
 },
 "nbformat": 4,
 "nbformat_minor": 5
}
